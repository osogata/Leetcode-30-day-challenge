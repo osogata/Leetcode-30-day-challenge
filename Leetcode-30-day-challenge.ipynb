{
 "cells": [
  {
   "cell_type": "markdown",
   "metadata": {},
   "source": [
    "# Leetcode 30 day challenge"
   ]
  },
  {
   "cell_type": "markdown",
   "metadata": {},
   "source": [
    "30-Day LeetCoding Challenge for the month of April, 2020.\n",
    "\n",
    "https://leetcode.com/explore/challenge/card/30-day-leetcoding-challenge/"
   ]
  },
  {
   "cell_type": "code",
   "execution_count": null,
   "metadata": {},
   "outputs": [],
   "source": []
  },
  {
   "cell_type": "markdown",
   "metadata": {},
   "source": [
    "# 4/7/2020 Counting Elements"
   ]
  },
  {
   "cell_type": "markdown",
   "metadata": {},
   "source": [
    "Given an integer array arr, count element x such that x + 1 is also in arr.\n",
    "\n",
    "If there're duplicates in arr, count them seperately.\n",
    "\n",
    " \n",
    "\n",
    "Example 1:\n",
    "\n",
    "Input: arr = [1,2,3]\n",
    "Output: 2\n",
    "Explanation: 1 and 2 are counted cause 2 and 3 are in arr.\n",
    "Example 2:\n",
    "\n",
    "Input: arr = [1,1,3,3,5,5,7,7]\n",
    "Output: 0\n",
    "Explanation: No numbers are counted, cause there's no 2, 4, 6, or 8 in arr.\n",
    "Example 3:\n",
    "\n",
    "Input: arr = [1,3,2,3,5,0]\n",
    "Output: 3\n",
    "Explanation: 0, 1 and 2 are counted cause 1, 2 and 3 are in arr."
   ]
  },
  {
   "cell_type": "code",
   "execution_count": 22,
   "metadata": {},
   "outputs": [],
   "source": [
    "def countElements(arr):\n",
    "        \n",
    "    ct = 0\n",
    "\n",
    "    # use a hashtable to record each item in the array and its frequency\n",
    "    d = {}\n",
    "    for num in arr:\n",
    "        d[num] = d.get(num, 0) + 1\n",
    "\n",
    "    # if x+1 also exists in d, add the frequency of x\n",
    "    for key in d:\n",
    "        if key + 1 in d:\n",
    "            ct += d[key]\n",
    "\n",
    "\n",
    "    return ct"
   ]
  },
  {
   "cell_type": "code",
   "execution_count": 23,
   "metadata": {},
   "outputs": [
    {
     "data": {
      "text/plain": [
       "2"
      ]
     },
     "execution_count": 23,
     "metadata": {},
     "output_type": "execute_result"
    }
   ],
   "source": [
    "countElements([1,2,3])"
   ]
  },
  {
   "cell_type": "code",
   "execution_count": 24,
   "metadata": {},
   "outputs": [
    {
     "data": {
      "text/plain": [
       "0"
      ]
     },
     "execution_count": 24,
     "metadata": {},
     "output_type": "execute_result"
    }
   ],
   "source": [
    "countElements([1,1,3,3,5,5,7,7])"
   ]
  },
  {
   "cell_type": "code",
   "execution_count": 25,
   "metadata": {},
   "outputs": [
    {
     "data": {
      "text/plain": [
       "3"
      ]
     },
     "execution_count": 25,
     "metadata": {},
     "output_type": "execute_result"
    }
   ],
   "source": [
    "countElements([1,3,2,3,5,0])"
   ]
  },
  {
   "cell_type": "markdown",
   "metadata": {},
   "source": [
    "# 4/6/2020 Group Anagrams"
   ]
  },
  {
   "cell_type": "markdown",
   "metadata": {},
   "source": [
    "Leetcode 49. Group Anagrams\n",
    "\n",
    "Given an array of strings, group anagrams together.\n",
    "\n",
    "Example:\n",
    "\n",
    "Input: [\"eat\", \"tea\", \"tan\", \"ate\", \"nat\", \"bat\"],\n",
    "Output:\n",
    "[\n",
    "  [\"ate\",\"eat\",\"tea\"],\n",
    "  [\"nat\",\"tan\"],\n",
    "  [\"bat\"]\n",
    "]\n",
    "Note:\n",
    "\n",
    "All inputs will be in lowercase.\n",
    "The order of your output does not matter."
   ]
  },
  {
   "cell_type": "code",
   "execution_count": 20,
   "metadata": {},
   "outputs": [],
   "source": [
    "def groupAnagrams(strs):\n",
    "\n",
    "    # for anagrams, their sorted order of letters will be the same\n",
    "    # use the sorted string as a dictionary key to store all anagrams (in a list) as values\n",
    "\n",
    "    d = {}\n",
    "    \n",
    "    for word in strs:\n",
    "        temp = [ch for ch in word]\n",
    "        temp.sort()\n",
    "        key = ''.join(temp)\n",
    "        \n",
    "        if key in d:\n",
    "            d[key].append(word)\n",
    "        else:\n",
    "            d[key] = [word]\n",
    "    print(d)\n",
    "    return d.values()"
   ]
  },
  {
   "cell_type": "code",
   "execution_count": 21,
   "metadata": {},
   "outputs": [
    {
     "name": "stdout",
     "output_type": "stream",
     "text": [
      "{'aet': ['eat', 'tea', 'ate'], 'ant': ['tan', 'nat'], 'abt': ['bat']}\n"
     ]
    },
    {
     "data": {
      "text/plain": [
       "dict_values([['eat', 'tea', 'ate'], ['tan', 'nat'], ['bat']])"
      ]
     },
     "execution_count": 21,
     "metadata": {},
     "output_type": "execute_result"
    }
   ],
   "source": [
    "groupAnagrams([\"eat\", \"tea\", \"tan\", \"ate\", \"nat\", \"bat\"])"
   ]
  },
  {
   "cell_type": "markdown",
   "metadata": {},
   "source": [
    "# 4/5/2020 Best Time to Buy and Sell Stock II"
   ]
  },
  {
   "cell_type": "markdown",
   "metadata": {},
   "source": [
    "Leetcode 122. Best Time to Buy and Sell Stock II\n",
    "\n",
    "Say you have an array prices for which the ith element is the price of a given stock on day i.\n",
    "\n",
    "Design an algorithm to find the maximum profit. You may complete as many transactions as you like (i.e., buy one and sell one share of the stock multiple times).\n",
    "\n",
    "Note: You may not engage in multiple transactions at the same time (i.e., you must sell the stock before you buy again).\n",
    "\n",
    "Example 1:\n",
    "\n",
    "Input: [7,1,5,3,6,4]\n",
    "Output: 7\n",
    "Explanation: Buy on day 2 (price = 1) and sell on day 3 (price = 5), profit = 5-1 = 4.\n",
    "             Then buy on day 4 (price = 3) and sell on day 5 (price = 6), profit = 6-3 = 3."
   ]
  },
  {
   "cell_type": "code",
   "execution_count": 18,
   "metadata": {},
   "outputs": [],
   "source": [
    "def maxProfit(prices):\n",
    "\n",
    "    # one pass approach to keep the diff between consecutive items\n",
    "\n",
    "    max_profit = 0\n",
    "\n",
    "    if not prices:\n",
    "        return 0\n",
    "\n",
    "    for i in range(1, len(prices)):\n",
    "        \n",
    "        # if current item larger than previous one, add the diff into max_profit\n",
    "        if prices[i] > prices[i - 1]:\n",
    "            max_profit += prices[i] - prices[i - 1]\n",
    "\n",
    "    return max_profit"
   ]
  },
  {
   "cell_type": "code",
   "execution_count": 19,
   "metadata": {},
   "outputs": [
    {
     "data": {
      "text/plain": [
       "7"
      ]
     },
     "execution_count": 19,
     "metadata": {},
     "output_type": "execute_result"
    }
   ],
   "source": [
    "maxProfit([7,1,5,3,6,4])"
   ]
  },
  {
   "cell_type": "markdown",
   "metadata": {},
   "source": [
    "# 4/4/2020 Move Zeroes"
   ]
  },
  {
   "cell_type": "markdown",
   "metadata": {},
   "source": [
    "Leetcode 283. Move Zeroes\n",
    "\n",
    "Given an array nums, write a function to move all 0's to the end of it while maintaining the relative order of the non-zero elements.\n",
    "\n",
    "Example:\n",
    "\n",
    "Input: [0,1,0,3,12]\n",
    "Output: [1,3,12,0,0]\n",
    "\n",
    "Note:\n",
    "\n",
    "You must do this in-place without making a copy of the array.\n",
    "Minimize the total number of operations."
   ]
  },
  {
   "cell_type": "code",
   "execution_count": 16,
   "metadata": {},
   "outputs": [],
   "source": [
    "def moveZeroes(nums):\n",
    "    \"\"\"\n",
    "    Do not return anything, modify nums in-place instead.\n",
    "    \"\"\"\n",
    "\n",
    "    # use two-pointer approach\n",
    "    # i pointer will loop through the list and j pointer will only move when seeing non-zero items\n",
    "    j = 0\n",
    "\n",
    "    for i in range(len(nums)-1):\n",
    "\n",
    "        if nums[i+1] != 0:\n",
    "\n",
    "            # if an item is non-zero, swap between 2 items\n",
    "            nums[j], nums[i+1] = nums[i+1], nums[j]\n",
    "\n",
    "            # then move the j pointer\n",
    "            j += 1    \n",
    "\n",
    "    print(nums)"
   ]
  },
  {
   "cell_type": "code",
   "execution_count": 17,
   "metadata": {},
   "outputs": [
    {
     "name": "stdout",
     "output_type": "stream",
     "text": [
      "[1, 3, 12, 0, 0]\n"
     ]
    }
   ],
   "source": [
    "moveZeroes([0,1,0,3,12])"
   ]
  },
  {
   "cell_type": "markdown",
   "metadata": {},
   "source": [
    "# 4/3/2020 Maximum Subarray"
   ]
  },
  {
   "cell_type": "markdown",
   "metadata": {},
   "source": [
    "Leetcode 53. Maximum Subarray\n",
    "\n",
    "Given an integer array nums, find the contiguous subarray (containing at least one number) which has the largest sum and return its sum.\n",
    "\n",
    "Example:\n",
    "\n",
    "Input: [-2,1,-3,4,-1,2,1,-5,4],\n",
    "Output: 6\n",
    "Explanation: [4,-1,2,1] has the largest sum = 6."
   ]
  },
  {
   "cell_type": "code",
   "execution_count": 10,
   "metadata": {},
   "outputs": [],
   "source": [
    "def maxSubArray(nums):\n",
    "\n",
    "    temp_sum = 0\n",
    "    max_sum = -float(\"inf\")\n",
    "\n",
    "    for i in range(len(nums)):\n",
    "        \n",
    "        # at each step compare the list item and temp_sum and choose the larger one\n",
    "        temp_sum = max(temp_sum + nums[i], nums[i])\n",
    "        \n",
    "        # update max_sum at each step \n",
    "        max_sum = max(temp_sum, max_sum)\n",
    "\n",
    "    return max_sum"
   ]
  },
  {
   "cell_type": "code",
   "execution_count": 11,
   "metadata": {},
   "outputs": [
    {
     "data": {
      "text/plain": [
       "6"
      ]
     },
     "execution_count": 11,
     "metadata": {},
     "output_type": "execute_result"
    }
   ],
   "source": [
    "maxSubArray([-2,1,-3,4,-1,2,1,-5,4])"
   ]
  },
  {
   "cell_type": "markdown",
   "metadata": {},
   "source": [
    "# 4/2/2020 Happy Number"
   ]
  },
  {
   "cell_type": "markdown",
   "metadata": {},
   "source": [
    "Leetcode 202. Happy Number\n",
    "\n",
    "Write an algorithm to determine if a number n is \"happy\".\n",
    "\n",
    "A happy number is a number defined by the following process: Starting with any positive integer, replace the number by the sum of the squares of its digits, and repeat the process until the number equals 1 (where it will stay), or it loops endlessly in a cycle which does not include 1. Those numbers for which this process ends in 1 are happy numbers.\n",
    "\n",
    "Return True if n is a happy number, and False if not.\n",
    "\n",
    "Example: \n",
    "\n",
    "Input: 19\n",
    "Output: true"
   ]
  },
  {
   "cell_type": "code",
   "execution_count": 8,
   "metadata": {},
   "outputs": [],
   "source": [
    "def isHappy(n):\n",
    "\n",
    "    # use a set to record the ever-appearing digits\n",
    "    temp = set()\n",
    "    \n",
    "\n",
    "    while n != 1:\n",
    "\n",
    "        # split the input integer into a list of its digits\n",
    "        # replace n with the sum of digit square\n",
    "        n = sum([int(d) ** 2 for d in str(n)])\n",
    "    \n",
    "        # if seen n before, should end the loop\n",
    "        if n in temp:\n",
    "            return False\n",
    "        else:\n",
    "            temp.add(n)\n",
    "\n",
    "    return True"
   ]
  },
  {
   "cell_type": "code",
   "execution_count": 9,
   "metadata": {},
   "outputs": [
    {
     "data": {
      "text/plain": [
       "True"
      ]
     },
     "execution_count": 9,
     "metadata": {},
     "output_type": "execute_result"
    }
   ],
   "source": [
    "isHappy(19)"
   ]
  },
  {
   "cell_type": "markdown",
   "metadata": {},
   "source": [
    "# 4/1/20 Single Number"
   ]
  },
  {
   "cell_type": "markdown",
   "metadata": {},
   "source": [
    "Leetcode 136. Single Number\n",
    "\n",
    "Given a non-empty array of integers, every element appears twice except for one. Find that single one.\n",
    "\n",
    "Note:\n",
    "\n",
    "Your algorithm should have a linear runtime complexity. Could you implement it without using extra memory?\n",
    "\n",
    "Example 1:\n",
    "\n",
    "Input: [2,2,1]\n",
    "Output: 1\n",
    "Example 2:\n",
    "\n",
    "Input: [4,1,2,1,2]\n",
    "Output: 4"
   ]
  },
  {
   "cell_type": "code",
   "execution_count": 4,
   "metadata": {},
   "outputs": [],
   "source": [
    "def singleNumber(nums):\n",
    "    \n",
    "    # use a hashtable to record each item in the list and its frequency\n",
    "    d = {}\n",
    "    for num in nums:\n",
    "        d[num] = d.get(num, 0) + 1\n",
    "    \n",
    "    # find the item that occurs only once\n",
    "    for key in d:\n",
    "        if d[key] == 1:\n",
    "            return key"
   ]
  },
  {
   "cell_type": "code",
   "execution_count": 5,
   "metadata": {},
   "outputs": [
    {
     "data": {
      "text/plain": [
       "1"
      ]
     },
     "execution_count": 5,
     "metadata": {},
     "output_type": "execute_result"
    }
   ],
   "source": [
    "singleNumber([2,2,1])"
   ]
  },
  {
   "cell_type": "code",
   "execution_count": 6,
   "metadata": {},
   "outputs": [
    {
     "data": {
      "text/plain": [
       "4"
      ]
     },
     "execution_count": 6,
     "metadata": {},
     "output_type": "execute_result"
    }
   ],
   "source": [
    "singleNumber([4,1,2,1,2])"
   ]
  }
 ],
 "metadata": {
  "kernelspec": {
   "display_name": "Python 3",
   "language": "python",
   "name": "python3"
  },
  "language_info": {
   "codemirror_mode": {
    "name": "ipython",
    "version": 3
   },
   "file_extension": ".py",
   "mimetype": "text/x-python",
   "name": "python",
   "nbconvert_exporter": "python",
   "pygments_lexer": "ipython3",
   "version": "3.7.4"
  }
 },
 "nbformat": 4,
 "nbformat_minor": 2
}
